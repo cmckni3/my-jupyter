{
 "cells": [
  {
   "cell_type": "code",
   "execution_count": null,
   "metadata": {
    "collapsed": true
   },
   "outputs": [],
   "source": [
    "class Foo {\n",
    "    constructor() {\n",
    "        console.log('blah');\n",
    "    }\n",
    "}\n",
    "\n",
    "new Foo();"
   ]
  }
 ],
 "metadata": {
  "kernelspec": {
   "display_name": "Babel (Node.js)",
   "language": "babel",
   "name": "babel"
  },
  "language_info": {
   "file_extension": ".js",
   "mimetype": "application/javascript",
   "name": "javascript",
   "version": "0.12.9"
  }
 },
 "nbformat": 4,
 "nbformat_minor": 0
}
