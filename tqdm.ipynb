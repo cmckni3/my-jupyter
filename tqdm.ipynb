{
 "cells": [
  {
   "cell_type": "code",
   "execution_count": null,
   "metadata": {},
   "outputs": [],
   "source": [
    "require 'tqdm'\n",
    "(0...1000).tqdm.each { |x| sleep 0.01 }\n"
   ]
  }
 ],
 "metadata": {
  "kernelspec": {
   "display_name": "Ruby 2.3.5",
   "language": "ruby",
   "name": "ruby"
  },
  "language_info": {
   "file_extension": ".rb",
   "mimetype": "application/x-ruby",
   "name": "ruby",
   "version": "2.3.5"
  }
 },
 "nbformat": 4,
 "nbformat_minor": 1
}
